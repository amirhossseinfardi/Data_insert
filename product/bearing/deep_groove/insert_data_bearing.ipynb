{
 "cells": [
  {
   "cell_type": "code",
   "execution_count": null,
   "metadata": {},
   "outputs": [],
   "source": [
    "# import part"
   ]
  },
  {
   "cell_type": "code",
   "execution_count": 2,
   "metadata": {},
   "outputs": [],
   "source": [
    "import pandas as pd\n",
    "from requestium import Session, Keys\n",
    "import time\n",
    "from insert_bearing_function import insertData"
   ]
  },
  {
   "cell_type": "code",
   "execution_count": 3,
   "metadata": {},
   "outputs": [],
   "source": [
    "# initialize chrome\n",
    "s = Session(webdriver_path=r'C:\\chromedriver\\chromedriver.exe',\n",
    "            browser='chrome',\n",
    "            default_timeout=15,\n",
    "            )\n",
    "s.driver.maximize_window()\n",
    "\n",
    "url = 'https://www.skf.com/group/products/rolling-bearings/ball-bearings/deep-groove-ball-bearings'\n",
    "\n",
    "s.driver.get(url)\n",
    "time.sleep(10)"
   ]
  },
  {
   "cell_type": "code",
   "execution_count": 34,
   "metadata": {},
   "outputs": [],
   "source": [
    "# update table and then click below cell"
   ]
  },
  {
   "cell_type": "code",
   "execution_count": 8,
   "metadata": {},
   "outputs": [],
   "source": [
    "data_table = pd.read_html(s.driver.page_source,\n",
    "#                           skiprows=3,\n",
    "                         )[0]\n",
    "data_table.columns = ['ID', 'OD','width','dynamic','static','P','rpm','limit_rpm','trade_name','nothing']"
   ]
  },
  {
   "cell_type": "code",
   "execution_count": 9,
   "metadata": {},
   "outputs": [
    {
     "name": "stderr",
     "output_type": "stream",
     "text": [
      "c:\\users\\m.yaghoobi\\appdata\\local\\programs\\python\\python37\\lib\\site-packages\\ipykernel_launcher.py:13: FutureWarning: set_value is deprecated and will be removed in a future release. Please use .at[] or .iat[] accessors instead\n",
      "  del sys.path[0]\n",
      "c:\\users\\m.yaghoobi\\appdata\\local\\programs\\python\\python37\\lib\\site-packages\\ipykernel_launcher.py:28: FutureWarning: set_value is deprecated and will be removed in a future release. Please use .at[] or .iat[] accessors instead\n"
     ]
    }
   ],
   "source": [
    "data_table['ID_Tol'] = '-0.008'\n",
    "data_table['OD_Tol'] = '-0.008'\n",
    "\n",
    "for i, row in data_table.iterrows():\n",
    "    if float(row.ID) < 2.5:\n",
    "        ID_Tolerance = '-0.008'\n",
    "    elif float(row.ID) < 10:\n",
    "        ID_Tolerance = '-0.008'\n",
    "    elif float(row.ID) < 18:\n",
    "        ID_Tolerance = '-0.008'\n",
    "    else:\n",
    "        ID_Tolerance = '-0.008'\n",
    "    data_table.set_value(i,'ID_Tol',ID_Tolerance)\n",
    "    \n",
    "for i, row in data_table.iterrows():\n",
    "    if float(row.OD) < 18:\n",
    "        OD_Tolerance = '-0.008'\n",
    "        \n",
    "    elif float(row.OD) < 30:\n",
    "        OD_Tolerance = '-0.009'\n",
    "        \n",
    "    elif float(row.OD) < 50:\n",
    "        OD_Tolerance = '-0.011'\n",
    "        \n",
    "    else:\n",
    "        OD_Tolerance = '-0.013'\n",
    "        \n",
    "    data_table.set_value(i,'OD_Tol',OD_Tolerance)\n",
    "data_table.fillna('-', inplace=True)\n",
    "data_table['dynamic'] =  data_table['dynamic'].astype(str) + 'k'\n",
    "data_table['static'] =  data_table['static'].astype(str) + 'k'"
   ]
  },
  {
   "cell_type": "code",
   "execution_count": 38,
   "metadata": {},
   "outputs": [],
   "source": [
    "# print data to check"
   ]
  },
  {
   "cell_type": "code",
   "execution_count": 12,
   "metadata": {},
   "outputs": [
    {
     "name": "stdout",
     "output_type": "stream",
     "text": [
      "    ID  OD  width dynamic  static      P     rpm  limit_rpm trade_name  \\\n",
      "0    7  14    3.5   0.78k   0.26k  0.011  100000      63000      618/7   \n",
      "1    7  14    5.0   0.78k   0.26k  0.011  100000      50000   628/7-2Z   \n",
      "2    7  17    5.0   1.06k  0.375k  0.016   90000      45000   619/7-2Z   \n",
      "3    7  17    5.0   1.06k  0.375k  0.016   90000      56000      619/7   \n",
      "4    7  19    6.0   2.34k   0.95k  0.040   85000      43000   607-2RSL   \n",
      "5    7  19    6.0   2.34k   0.95k  0.040   85000      43000     607-2Z   \n",
      "6    7  19    6.0   2.34k   0.95k  0.040   85000      53000        607   \n",
      "7    7  19    6.0   2.34k   0.95k  0.040   85000      53000      607-Z   \n",
      "8    7  19    6.0   2.34k   0.95k  0.040       -      24000   607-2RSH   \n",
      "9    7  19    6.0   2.34k   0.95k  0.040       -      24000    607-RSH   \n",
      "10   7  22    7.0   3.45k   1.37k  0.057   70000      36000   627-2RSL   \n",
      "11   7  22    7.0   3.45k   1.37k  0.057   70000      36000     627-2Z   \n",
      "12   7  22    7.0   3.45k   1.37k  0.057   70000      45000        627   \n",
      "13   7  22    7.0   3.45k   1.37k  0.057   70000      45000      627-Z   \n",
      "14   7  22    7.0   3.45k   1.37k  0.057       -      22000   627-2RSH   \n",
      "\n",
      "   nothing  ID_Tol  OD_Tol  \n",
      "0        -  -0.008  -0.008  \n",
      "1        -  -0.008  -0.008  \n",
      "2        -  -0.008  -0.008  \n",
      "3        -  -0.008  -0.008  \n",
      "4        -  -0.008  -0.009  \n",
      "5        -  -0.008  -0.009  \n",
      "6        -  -0.008  -0.009  \n",
      "7        -  -0.008  -0.009  \n",
      "8        -  -0.008  -0.009  \n",
      "9        -  -0.008  -0.009  \n",
      "10       -  -0.008  -0.009  \n",
      "11       -  -0.008  -0.009  \n",
      "12       -  -0.008  -0.009  \n",
      "13       -  -0.008  -0.009  \n",
      "14       -  -0.008  -0.009  \n"
     ]
    }
   ],
   "source": [
    "print(data_table)"
   ]
  },
  {
   "cell_type": "code",
   "execution_count": 11,
   "metadata": {},
   "outputs": [
    {
     "name": "stdout",
     "output_type": "stream",
     "text": [
      "    ID  OD  width dynamic  static      P     rpm  limit_rpm trade_name  \\\n",
      "0    7  14    3.5   0.78k   0.26k  0.011  100000      63000      618/7   \n",
      "1    7  14    5.0   0.78k   0.26k  0.011  100000      50000   628/7-2Z   \n",
      "2    7  17    5.0   1.06k  0.375k  0.016   90000      45000   619/7-2Z   \n",
      "3    7  17    5.0   1.06k  0.375k  0.016   90000      56000      619/7   \n",
      "4    7  19    6.0   2.34k   0.95k  0.040   85000      43000   607-2RSL   \n",
      "5    7  19    6.0   2.34k   0.95k  0.040   85000      43000     607-2Z   \n",
      "6    7  19    6.0   2.34k   0.95k  0.040   85000      53000        607   \n",
      "7    7  19    6.0   2.34k   0.95k  0.040   85000      53000      607-Z   \n",
      "8    7  19    6.0   2.34k   0.95k  0.040       -      24000   607-2RSH   \n",
      "9    7  19    6.0   2.34k   0.95k  0.040       -      24000    607-RSH   \n",
      "10   7  22    7.0   3.45k   1.37k  0.057   70000      36000   627-2RSL   \n",
      "11   7  22    7.0   3.45k   1.37k  0.057   70000      36000     627-2Z   \n",
      "12   7  22    7.0   3.45k   1.37k  0.057   70000      45000        627   \n",
      "13   7  22    7.0   3.45k   1.37k  0.057   70000      45000      627-Z   \n",
      "14   7  22    7.0   3.45k   1.37k  0.057       -      22000   627-2RSH   \n",
      "\n",
      "   nothing  ID_Tol  OD_Tol  \n",
      "0        -  -0.008  -0.008  \n",
      "1        -  -0.008  -0.008  \n",
      "2        -  -0.008  -0.008  \n",
      "3        -  -0.008  -0.008  \n",
      "4        -  -0.008  -0.009  \n",
      "5        -  -0.008  -0.009  \n",
      "6        -  -0.008  -0.009  \n",
      "7        -  -0.008  -0.009  \n",
      "8        -  -0.008  -0.009  \n",
      "9        -  -0.008  -0.009  \n",
      "10       -  -0.008  -0.009  \n",
      "11       -  -0.008  -0.009  \n",
      "12       -  -0.008  -0.009  \n",
      "13       -  -0.008  -0.009  \n",
      "14       -  -0.008  -0.009  \n",
      "//*[text()=\"618/7\"]\n",
      "no predefine value\n",
      "//*[text()=\"628/7-2Z\"]\n",
      "no predefine value\n",
      "//*[text()=\"619/7-2Z\"]\n",
      "no predefine value\n",
      "//*[text()=\"619/7\"]\n",
      "no predefine value\n",
      "//*[text()=\"607-2RSL\"]\n",
      "no predefine value\n"
     ]
    },
    {
     "ename": "TimeoutException",
     "evalue": "Message: \n",
     "output_type": "error",
     "traceback": [
      "\u001b[1;31m---------------------------------------------------------------------------\u001b[0m",
      "\u001b[1;31mTimeoutException\u001b[0m                          Traceback (most recent call last)",
      "\u001b[1;32m<ipython-input-11-4c37e1dfb398>\u001b[0m in \u001b[0;36m<module>\u001b[1;34m\u001b[0m\n\u001b[1;32m----> 1\u001b[1;33m \u001b[0minsertData\u001b[0m\u001b[1;33m(\u001b[0m\u001b[0mdata_table\u001b[0m\u001b[1;33m)\u001b[0m\u001b[1;33m\u001b[0m\u001b[1;33m\u001b[0m\u001b[0m\n\u001b[0m",
      "\u001b[1;32m~\\PycharmProjects\\Project\\Kaalaak\\Data_insert\\product\\bearing\\deep_groove\\insert_bearing_function.py\u001b[0m in \u001b[0;36minsertData\u001b[1;34m(df_insert_data)\u001b[0m\n\u001b[0;32m     93\u001b[0m         \u001b[0mold_product_xpath1\u001b[0m \u001b[1;33m=\u001b[0m \u001b[1;34m'/html/body/div[5]/div/div/div[1]/div[2]/div[1]/div/div/div[1]/div[1]/div/ul/li[1]/a'\u001b[0m\u001b[1;33m\u001b[0m\u001b[1;33m\u001b[0m\u001b[0m\n\u001b[0;32m     94\u001b[0m         s.driver.ensure_element_by_xpath(old_product_xpath,\n\u001b[1;32m---> 95\u001b[1;33m                                          timeout=10).ensure_click()\n\u001b[0m\u001b[0;32m     96\u001b[0m         s.driver.ensure_element_by_xpath(old_product_xpath1,\n\u001b[0;32m     97\u001b[0m                                          \u001b[0mstate\u001b[0m\u001b[1;33m=\u001b[0m\u001b[1;34m'clickable'\u001b[0m\u001b[1;33m,\u001b[0m\u001b[1;33m\u001b[0m\u001b[1;33m\u001b[0m\u001b[0m\n",
      "\u001b[1;32mc:\\users\\m.yaghoobi\\appdata\\local\\programs\\python\\python37\\lib\\site-packages\\requestium\\requestium.py\u001b[0m in \u001b[0;36mensure_element_by_xpath\u001b[1;34m(self, selector, state, timeout)\u001b[0m\n\u001b[0;32m    265\u001b[0m \u001b[1;33m\u001b[0m\u001b[0m\n\u001b[0;32m    266\u001b[0m     \u001b[1;32mdef\u001b[0m \u001b[0mensure_element_by_xpath\u001b[0m\u001b[1;33m(\u001b[0m\u001b[0mself\u001b[0m\u001b[1;33m,\u001b[0m \u001b[0mselector\u001b[0m\u001b[1;33m,\u001b[0m \u001b[0mstate\u001b[0m\u001b[1;33m=\u001b[0m\u001b[1;34m\"present\"\u001b[0m\u001b[1;33m,\u001b[0m \u001b[0mtimeout\u001b[0m\u001b[1;33m=\u001b[0m\u001b[1;32mNone\u001b[0m\u001b[1;33m)\u001b[0m\u001b[1;33m:\u001b[0m\u001b[1;33m\u001b[0m\u001b[1;33m\u001b[0m\u001b[0m\n\u001b[1;32m--> 267\u001b[1;33m         \u001b[1;32mreturn\u001b[0m \u001b[0mself\u001b[0m\u001b[1;33m.\u001b[0m\u001b[0mensure_element\u001b[0m\u001b[1;33m(\u001b[0m\u001b[1;34m'xpath'\u001b[0m\u001b[1;33m,\u001b[0m \u001b[0mselector\u001b[0m\u001b[1;33m,\u001b[0m \u001b[0mstate\u001b[0m\u001b[1;33m,\u001b[0m \u001b[0mtimeout\u001b[0m\u001b[1;33m)\u001b[0m\u001b[1;33m\u001b[0m\u001b[1;33m\u001b[0m\u001b[0m\n\u001b[0m\u001b[0;32m    268\u001b[0m \u001b[1;33m\u001b[0m\u001b[0m\n\u001b[0;32m    269\u001b[0m     \u001b[1;32mdef\u001b[0m \u001b[0mensure_element_by_link_text\u001b[0m\u001b[1;33m(\u001b[0m\u001b[0mself\u001b[0m\u001b[1;33m,\u001b[0m \u001b[0mselector\u001b[0m\u001b[1;33m,\u001b[0m \u001b[0mstate\u001b[0m\u001b[1;33m=\u001b[0m\u001b[1;34m\"present\"\u001b[0m\u001b[1;33m,\u001b[0m \u001b[0mtimeout\u001b[0m\u001b[1;33m=\u001b[0m\u001b[1;32mNone\u001b[0m\u001b[1;33m)\u001b[0m\u001b[1;33m:\u001b[0m\u001b[1;33m\u001b[0m\u001b[1;33m\u001b[0m\u001b[0m\n",
      "\u001b[1;32mc:\\users\\m.yaghoobi\\appdata\\local\\programs\\python\\python37\\lib\\site-packages\\requestium\\requestium.py\u001b[0m in \u001b[0;36mensure_element\u001b[1;34m(self, locator, selector, state, timeout)\u001b[0m\n\u001b[0;32m    322\u001b[0m         \u001b[1;32melif\u001b[0m \u001b[0mstate\u001b[0m \u001b[1;33m==\u001b[0m \u001b[1;34m'present'\u001b[0m\u001b[1;33m:\u001b[0m\u001b[1;33m\u001b[0m\u001b[1;33m\u001b[0m\u001b[0m\n\u001b[0;32m    323\u001b[0m             element = WebDriverWait(self, timeout).until(\n\u001b[1;32m--> 324\u001b[1;33m                 \u001b[0mEC\u001b[0m\u001b[1;33m.\u001b[0m\u001b[0mpresence_of_element_located\u001b[0m\u001b[1;33m(\u001b[0m\u001b[1;33m(\u001b[0m\u001b[0mlocator\u001b[0m\u001b[1;33m,\u001b[0m \u001b[0mselector\u001b[0m\u001b[1;33m)\u001b[0m\u001b[1;33m)\u001b[0m\u001b[1;33m\u001b[0m\u001b[1;33m\u001b[0m\u001b[0m\n\u001b[0m\u001b[0;32m    325\u001b[0m             )\n\u001b[0;32m    326\u001b[0m         \u001b[1;32melif\u001b[0m \u001b[0mstate\u001b[0m \u001b[1;33m==\u001b[0m \u001b[1;34m'invisible'\u001b[0m\u001b[1;33m:\u001b[0m\u001b[1;33m\u001b[0m\u001b[1;33m\u001b[0m\u001b[0m\n",
      "\u001b[1;32mc:\\users\\m.yaghoobi\\appdata\\local\\programs\\python\\python37\\lib\\site-packages\\selenium\\webdriver\\support\\wait.py\u001b[0m in \u001b[0;36muntil\u001b[1;34m(self, method, message)\u001b[0m\n\u001b[0;32m     78\u001b[0m             \u001b[1;32mif\u001b[0m \u001b[0mtime\u001b[0m\u001b[1;33m.\u001b[0m\u001b[0mtime\u001b[0m\u001b[1;33m(\u001b[0m\u001b[1;33m)\u001b[0m \u001b[1;33m>\u001b[0m \u001b[0mend_time\u001b[0m\u001b[1;33m:\u001b[0m\u001b[1;33m\u001b[0m\u001b[1;33m\u001b[0m\u001b[0m\n\u001b[0;32m     79\u001b[0m                 \u001b[1;32mbreak\u001b[0m\u001b[1;33m\u001b[0m\u001b[1;33m\u001b[0m\u001b[0m\n\u001b[1;32m---> 80\u001b[1;33m         \u001b[1;32mraise\u001b[0m \u001b[0mTimeoutException\u001b[0m\u001b[1;33m(\u001b[0m\u001b[0mmessage\u001b[0m\u001b[1;33m,\u001b[0m \u001b[0mscreen\u001b[0m\u001b[1;33m,\u001b[0m \u001b[0mstacktrace\u001b[0m\u001b[1;33m)\u001b[0m\u001b[1;33m\u001b[0m\u001b[1;33m\u001b[0m\u001b[0m\n\u001b[0m\u001b[0;32m     81\u001b[0m \u001b[1;33m\u001b[0m\u001b[0m\n\u001b[0;32m     82\u001b[0m     \u001b[1;32mdef\u001b[0m \u001b[0muntil_not\u001b[0m\u001b[1;33m(\u001b[0m\u001b[0mself\u001b[0m\u001b[1;33m,\u001b[0m \u001b[0mmethod\u001b[0m\u001b[1;33m,\u001b[0m \u001b[0mmessage\u001b[0m\u001b[1;33m=\u001b[0m\u001b[1;34m''\u001b[0m\u001b[1;33m)\u001b[0m\u001b[1;33m:\u001b[0m\u001b[1;33m\u001b[0m\u001b[1;33m\u001b[0m\u001b[0m\n",
      "\u001b[1;31mTimeoutException\u001b[0m: Message: \n"
     ]
    }
   ],
   "source": [
    "insertData(data_table)"
   ]
  },
  {
   "cell_type": "code",
   "execution_count": null,
   "metadata": {},
   "outputs": [],
   "source": []
  }
 ],
 "metadata": {
  "kernelspec": {
   "display_name": "Python 3",
   "language": "python",
   "name": "python3"
  },
  "language_info": {
   "codemirror_mode": {
    "name": "ipython",
    "version": 3
   },
   "file_extension": ".py",
   "mimetype": "text/x-python",
   "name": "python",
   "nbconvert_exporter": "python",
   "pygments_lexer": "ipython3",
   "version": "3.7.7"
  }
 },
 "nbformat": 4,
 "nbformat_minor": 4
}
