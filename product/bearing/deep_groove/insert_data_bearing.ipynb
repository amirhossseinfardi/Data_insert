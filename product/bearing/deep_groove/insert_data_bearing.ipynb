{
 "cells": [
  {
   "cell_type": "code",
   "execution_count": null,
   "metadata": {},
   "outputs": [],
   "source": [
    "# import part"
   ]
  },
  {
   "cell_type": "code",
   "execution_count": 1,
   "metadata": {},
   "outputs": [],
   "source": [
    "import pandas as pd\n",
    "from requestium import Session, Keys\n",
    "import time\n",
    "from insert_bearing_function import insertData"
   ]
  },
  {
   "cell_type": "code",
   "execution_count": 2,
   "metadata": {},
   "outputs": [],
   "source": [
    "# initialize chrome\n",
    "s = Session(webdriver_path=r'C:\\chromedriver\\chromedriver.exe',\n",
    "            browser='chrome',\n",
    "            default_timeout=15,\n",
    "            )\n",
    "s.driver.maximize_window()\n",
    "\n",
    "url = 'https://www.skf.com/group/products/rolling-bearings/ball-bearings/deep-groove-ball-bearings'\n",
    "\n",
    "s.driver.get(url)\n",
    "time.sleep(10)"
   ]
  },
  {
   "cell_type": "code",
   "execution_count": null,
   "metadata": {},
   "outputs": [],
   "source": [
    "# update table and then click below cell"
   ]
  },
  {
   "cell_type": "code",
   "execution_count": 22,
   "metadata": {},
   "outputs": [],
   "source": [
    "data_table = pd.read_html(s.driver.page_source,\n",
    "#                           skiprows=3,\n",
    "                         )[0]\n",
    "data_table.columns = ['ID', 'OD','width','dynamic','static','P','rpm','limit_rpm','trade_name','nothing']"
   ]
  },
  {
   "cell_type": "code",
   "execution_count": 23,
   "metadata": {},
   "outputs": [
    {
     "name": "stderr",
     "output_type": "stream",
     "text": [
      "c:\\users\\m.yaghoobi\\appdata\\local\\programs\\python\\python37\\lib\\site-packages\\ipykernel_launcher.py:13: FutureWarning: set_value is deprecated and will be removed in a future release. Please use .at[] or .iat[] accessors instead\n",
      "  del sys.path[0]\n",
      "c:\\users\\m.yaghoobi\\appdata\\local\\programs\\python\\python37\\lib\\site-packages\\ipykernel_launcher.py:28: FutureWarning: set_value is deprecated and will be removed in a future release. Please use .at[] or .iat[] accessors instead\n"
     ]
    }
   ],
   "source": [
    "data_table['ID_Tol'] = '-0.008'\n",
    "data_table['OD_Tol'] = '-0.008'\n",
    "\n",
    "for i, row in data_table.iterrows():\n",
    "    if float(row.ID) < 2.5:\n",
    "        ID_Tolerance = '-0.008'\n",
    "    elif float(row.ID) < 10:\n",
    "        ID_Tolerance = '-0.008'\n",
    "    elif float(row.ID) < 18:\n",
    "        ID_Tolerance = '-0.008'\n",
    "    else:\n",
    "        ID_Tolerance = '-0.008'\n",
    "    data_table.set_value(i,'ID_Tol',ID_Tolerance)\n",
    "    \n",
    "for i, row in data_table.iterrows():\n",
    "    if float(row.OD) < 18:\n",
    "        OD_Tolerance = '-0.008'\n",
    "        \n",
    "    elif float(row.OD) < 30:\n",
    "        OD_Tolerance = '-0.009'\n",
    "        \n",
    "    elif float(row.OD) < 50:\n",
    "        OD_Tolerance = '-0.011'\n",
    "        \n",
    "    else:\n",
    "        OD_Tolerance = '-0.013'\n",
    "        \n",
    "    data_table.set_value(i,'OD_Tol',OD_Tolerance)\n",
    "\n",
    "data_table.fillna('-', inplace=True)\n",
    "data_table = data_table.round({'dynamic': 3, 'static': 3})\n",
    "data_table['dynamic'] =  data_table['dynamic'].astype(str) + 'k'\n",
    "data_table['static'] =  data_table['static'].astype(str) + 'k'"
   ]
  },
  {
   "cell_type": "code",
   "execution_count": 24,
   "metadata": {},
   "outputs": [],
   "source": [
    "# print data to check"
   ]
  },
  {
   "cell_type": "code",
   "execution_count": 25,
   "metadata": {},
   "outputs": [
    {
     "name": "stdout",
     "output_type": "stream",
     "text": [
      "    ID  OD  width dynamic  static      P    rpm  limit_rpm  trade_name  \\\n",
      "0    8  16      4  0.819k    0.3k  0.012  90000      56000       618/8   \n",
      "1    8  16      5   1.21k  0.455k  0.019  90000      45000    628/8-2Z   \n",
      "2    8  16      5   1.33k   0.57k  0.024      -      26000  628/8-2RS1   \n",
      "3    8  16      6  0.819k    0.3k  0.012  90000      45000    638/8-2Z   \n",
      "4    8  19      6   1.46k  0.465k  0.020  85000      43000    619/8-2Z   \n",
      "5    8  19      6   1.46k  0.465k  0.020  85000      53000       619/8   \n",
      "6    8  19      6   1.46k  0.465k  0.020      -      24000  619/8-2RS1   \n",
      "7    8  19      6   2.34k   0.95k  0.040  85000      43000    607/8-2Z   \n",
      "8    8  22      7   3.45k   1.37k  0.057  75000      38000    608-2RSL   \n",
      "9    8  22      7   3.45k   1.37k  0.057  75000      38000      608-2Z   \n",
      "10   8  22      7   3.45k   1.37k  0.057  75000      48000         608   \n",
      "11   8  22      7   3.45k   1.37k  0.057  75000      48000       608-Z   \n",
      "12   8  22      7   3.45k   1.37k  0.057      -      22000    608-2RSH   \n",
      "13   8  22      7   3.45k   1.37k  0.057      -      22000     608-RSH   \n",
      "14   8  22     11   3.45k   1.37k  0.057      -      22000  630/8-2RS1   \n",
      "15   8  24      8    3.9k   1.66k  0.071  63000      32000      628-2Z   \n",
      "16   8  24      8    3.9k   1.66k  0.071      -      19000    628-2RS1   \n",
      "\n",
      "   nothing  ID_Tol  OD_Tol  \n",
      "0        -  -0.008  -0.008  \n",
      "1        -  -0.008  -0.008  \n",
      "2        -  -0.008  -0.008  \n",
      "3        -  -0.008  -0.008  \n",
      "4        -  -0.008  -0.009  \n",
      "5        -  -0.008  -0.009  \n",
      "6        -  -0.008  -0.009  \n",
      "7        -  -0.008  -0.009  \n",
      "8        -  -0.008  -0.009  \n",
      "9        -  -0.008  -0.009  \n",
      "10       -  -0.008  -0.009  \n",
      "11       -  -0.008  -0.009  \n",
      "12       -  -0.008  -0.009  \n",
      "13       -  -0.008  -0.009  \n",
      "14       -  -0.008  -0.009  \n",
      "15       -  -0.008  -0.009  \n",
      "16       -  -0.008  -0.009  \n"
     ]
    }
   ],
   "source": [
    "print(data_table)"
   ]
  },
  {
   "cell_type": "code",
   "execution_count": 26,
   "metadata": {},
   "outputs": [
    {
     "name": "stdout",
     "output_type": "stream",
     "text": [
      "//*[text()=\"618/8\"]\n",
      "new value added\n"
     ]
    },
    {
     "ename": "AttributeError",
     "evalue": "'float' object has no attribute 'split'",
     "output_type": "error",
     "traceback": [
      "\u001b[1;31m---------------------------------------------------------------------------\u001b[0m",
      "\u001b[1;31mAttributeError\u001b[0m                            Traceback (most recent call last)",
      "\u001b[1;32m<ipython-input-26-4c37e1dfb398>\u001b[0m in \u001b[0;36m<module>\u001b[1;34m\u001b[0m\n\u001b[1;32m----> 1\u001b[1;33m \u001b[0minsertData\u001b[0m\u001b[1;33m(\u001b[0m\u001b[0mdata_table\u001b[0m\u001b[1;33m)\u001b[0m\u001b[1;33m\u001b[0m\u001b[1;33m\u001b[0m\u001b[0m\n\u001b[0m",
      "\u001b[1;32m~\\PycharmProjects\\Project\\Kaalaak\\Data_insert\\product\\bearing\\deep_groove\\insert_bearing_function.py\u001b[0m in \u001b[0;36minsertData\u001b[1;34m(df_insert_data)\u001b[0m\n\u001b[0;32m    215\u001b[0m                             \u001b[1;34m'/div[14]/div/div[2]/div/div/div[1]/div/input'\u001b[0m\u001b[1;33m\u001b[0m\u001b[1;33m\u001b[0m\u001b[0m\n\u001b[0;32m    216\u001b[0m         \u001b[0mvalue_input\u001b[0m \u001b[1;33m=\u001b[0m \u001b[0mrows\u001b[0m\u001b[1;33m.\u001b[0m\u001b[0mrpm\u001b[0m\u001b[1;33m\u001b[0m\u001b[1;33m\u001b[0m\u001b[0m\n\u001b[1;32m--> 217\u001b[1;33m         \u001b[0ms\u001b[0m\u001b[1;33m.\u001b[0m\u001b[0mdriver\u001b[0m\u001b[1;33m.\u001b[0m\u001b[0mensure_element_by_xpath\u001b[0m\u001b[1;33m(\u001b[0m\u001b[0mvalue_input_xpath\u001b[0m\u001b[1;33m,\u001b[0m \u001b[0mtimeout\u001b[0m\u001b[1;33m=\u001b[0m\u001b[1;36m10\u001b[0m\u001b[1;33m)\u001b[0m\u001b[1;33m.\u001b[0m\u001b[0mclear\u001b[0m\u001b[1;33m(\u001b[0m\u001b[1;33m)\u001b[0m\u001b[1;33m\u001b[0m\u001b[1;33m\u001b[0m\u001b[0m\n\u001b[0m\u001b[0;32m    218\u001b[0m         \u001b[0ms\u001b[0m\u001b[1;33m.\u001b[0m\u001b[0mdriver\u001b[0m\u001b[1;33m.\u001b[0m\u001b[0mensure_element_by_xpath\u001b[0m\u001b[1;33m(\u001b[0m\u001b[0mvalue_input_xpath\u001b[0m\u001b[1;33m,\u001b[0m \u001b[0mtimeout\u001b[0m\u001b[1;33m=\u001b[0m\u001b[1;36m10\u001b[0m\u001b[1;33m)\u001b[0m\u001b[1;33m.\u001b[0m\u001b[0msend_keys\u001b[0m\u001b[1;33m(\u001b[0m\u001b[0mstr\u001b[0m\u001b[1;33m(\u001b[0m\u001b[0mint\u001b[0m\u001b[1;33m(\u001b[0m\u001b[0mvalue_input\u001b[0m\u001b[1;33m)\u001b[0m\u001b[1;33m)\u001b[0m\u001b[1;33m)\u001b[0m\u001b[1;33m\u001b[0m\u001b[1;33m\u001b[0m\u001b[0m\n\u001b[0;32m    219\u001b[0m \u001b[1;33m\u001b[0m\u001b[0m\n",
      "\u001b[1;31mAttributeError\u001b[0m: 'float' object has no attribute 'split'"
     ]
    }
   ],
   "source": [
    "insertData(data_table)"
   ]
  },
  {
   "cell_type": "code",
   "execution_count": null,
   "metadata": {},
   "outputs": [],
   "source": []
  }
 ],
 "metadata": {
  "kernelspec": {
   "display_name": "Python 3",
   "language": "python",
   "name": "python3"
  },
  "language_info": {
   "codemirror_mode": {
    "name": "ipython",
    "version": 3
   },
   "file_extension": ".py",
   "mimetype": "text/x-python",
   "name": "python",
   "nbconvert_exporter": "python",
   "pygments_lexer": "ipython3",
   "version": "3.7.7"
  }
 },
 "nbformat": 4,
 "nbformat_minor": 4
}
